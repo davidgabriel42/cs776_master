{
 "cells": [
  {
   "cell_type": "code",
   "execution_count": 10,
   "metadata": {
    "application/vnd.databricks.v1+cell": {
     "inputWidgets": {},
     "nuid": "bc46fb1f-06a7-4639-b0fd-3c735d5232b6",
     "showTitle": false,
     "title": ""
    }
   },
   "outputs": [],
   "source": [
    "from __future__ import print_function\n",
    "import random as rand\n",
    "import csv\n",
    "import operator\n",
    "import gc\n",
    "import os\n",
    "from datetime import datetime\n",
    "from keras.callbacks import EarlyStopping\n",
    "from keras.models import load_model\n",
    "import keras.backend as K\n",
    "from sklearn.metrics import log_loss\n",
    "import numpy as np\n",
    "\n",
    "if K.backend() == 'tensorflow':\n",
    "    import tensorflow as tf\n",
    "from setuptools import setup, find_packages\n",
    "\n",
    "from keras.datasets import mnist\n",
    "from keras.utils.np_utils import to_categorical\n",
    "from keras import backend as K\n",
    "#from devol import DEvol, GenomeHandler\n",
    "import pandas as pd\n",
    "from pyspark.sql.types import *\n",
    "import inspect\n",
    "from typing import Callable, List\n",
    "import pandas as pd\n",
    "from pyspark.sql import DataFrame, Row, column\n",
    "from pyspark.sql.functions import lit, pandas_udf, PandasUDFType, array\n",
    "from pyspark.sql.types import FloatType"
   ]
  },
  {
   "cell_type": "code",
   "execution_count": 11,
   "metadata": {
    "application/vnd.databricks.v1+cell": {
     "inputWidgets": {},
     "nuid": "007d599e-eb30-4ffc-bebd-9cf2881ecc2b",
     "showTitle": false,
     "title": ""
    }
   },
   "outputs": [
    {
     "name": "stdout",
     "output_type": "stream",
     "text": [
      "Num GPUs Available:  0\n"
     ]
    }
   ],
   "source": [
    "print(\"Num GPUs Available: \", len(tf.config.experimental.list_physical_devices('GPU')))\n"
   ]
  },
  {
   "cell_type": "code",
   "execution_count": 12,
   "metadata": {},
   "outputs": [],
   "source": [
    "import pandas as pd\n",
    "import glob\n",
    "\n",
    "path = r'./' # use your path\n",
    "all_files = glob.glob(path + \"/*.csv\")\n",
    "\n",
    "li = []\n",
    "\n",
    "for filename in all_files:\n",
    "    df = pd.read_csv(filename, index_col=None, header=0)\n",
    "    li.append(df)"
   ]
  },
  {
   "cell_type": "code",
   "execution_count": 65,
   "metadata": {},
   "outputs": [],
   "source": [
    "#GA avg max and for devol results on mnist\n",
    "\n",
    "\n",
    "frame = pd.concat(li, axis=0, ignore_index=True)\n",
    "frame['groups'] = pd.cut(frame.index,10)\n",
    "\n",
    "frame['cmax'] = frame.groupby(frame['groups'])['Val Accuracy'].cummax()    \n",
    "results = pd.DataFrame(frame['cmax'])\n",
    "cmax = results.reset_index(drop = True)\n",
    "#avg avg \n",
    "results['cumsum'] = frame.groupby(frame['groups'])['Val Accuracy'].cumsum()\n",
    "results['std'] = frame.groupby(frame['groups'])['Val Accuracy'].std()\n",
    "frame['n_evals'] = frame.groupby(frame['groups'])['Val Accuracy'].count()\n",
    "frame['n_evals'] = 1\n",
    "results['n_evals'] = frame['n_evals'].groupby(frame['groups']).cumsum()\n",
    "\n",
    "#foo = frame.groupby(frame['groups']).apply(lambda x: x['cumsum']/ x['n_evals'].astype(float))\n",
    "\n",
    "\n",
    "results['denom'] = results['n_evals']\n",
    "results = results.set_index(['n_evals']).reset_index()\n",
    "#frame['cavg'] = frame['n_evals'].groupby(frame['groups']).cumsum()\n",
    "#frame['n_evals']\n",
    "results['avg'] = pd.DataFrame(results.groupby(results.index).apply(lambda x: x['cumsum']/ x['denom'].astype(float))).reset_index(drop = True)\n",
    "final_devol = results.groupby(['n_evals']).mean()"
   ]
  },
  {
   "cell_type": "code",
   "execution_count": 66,
   "metadata": {},
   "outputs": [
    {
     "data": {
      "text/plain": [
       "0       0.922000\n",
       "1       0.953350\n",
       "2       0.961700\n",
       "3       0.960775\n",
       "4       0.960820\n",
       "          ...   \n",
       "2995    0.937225\n",
       "2996    0.937363\n",
       "2997    0.937500\n",
       "2998    0.937563\n",
       "2999    0.937692\n",
       "Name: 0, Length: 3000, dtype: float64"
      ]
     },
     "execution_count": 66,
     "metadata": {},
     "output_type": "execute_result"
    }
   ],
   "source": [
    "\n",
    "foo = pd.DataFrame(results.groupby(results.index).apply(lambda x: x['cumsum']/ x['denom'].astype(float)))\n",
    "foo = foo.reset_index(drop = True)\n",
    "foo = foo.iloc[:,0]\n",
    "foo"
   ]
  },
  {
   "cell_type": "code",
   "execution_count": 68,
   "metadata": {},
   "outputs": [
    {
     "data": {
      "text/plain": [
       "5"
      ]
     },
     "execution_count": 68,
     "metadata": {},
     "output_type": "execute_result"
    }
   ],
   "source": [
    "import pandas as pd\n",
    "import glob\n",
    "\n",
    "path = r'./' # use your path\n",
    "all_files = glob.glob(path + \"../mdevol/*.csv\")\n",
    "\n",
    "li = []\n",
    "\n",
    "for filename in all_files:\n",
    "    df = pd.read_csv(filename, index_col=None, header=0)\n",
    "    li.append(df)\n",
    "    \n",
    "n_trials = len(li)\n",
    "n_trials"
   ]
  },
  {
   "cell_type": "code",
   "execution_count": 16,
   "metadata": {},
   "outputs": [],
   "source": [
    "#GA avg max and for devol results on mnist\n",
    "\n",
    "\n",
    "frame = pd.concat(li, axis=0, ignore_index=True)\n",
    "frame['groups'] = pd.cut(frame.index,n_trials)\n",
    "\n",
    "frame['cmax'] = frame.groupby(frame['groups'])['Val Accuracy'].cummax()    \n",
    "results = pd.DataFrame(frame['cmax'])\n",
    "cmax = results.reset_index(drop = True)\n",
    "#avg avg \n",
    "results['cumsum'] = frame.groupby(frame['groups'])['Val Accuracy'].cumsum()\n",
    "frame['n_evals'] = frame.groupby(frame['groups'])['Val Accuracy'].count()\n",
    "frame['n_evals'] = 1\n",
    "results['n_evals'] = frame['n_evals'].groupby(frame['groups']).cumsum()\n",
    "\n",
    "#foo = frame.groupby(frame['groups']).apply(lambda x: x['cumsum']/ x['n_evals'].astype(float))\n",
    "\n",
    "\n",
    "results['denom'] = results['n_evals']\n",
    "results = results.set_index(['n_evals']).reset_index()\n",
    "#frame['cavg'] = frame['n_evals'].groupby(frame['groups']).cumsum()\n",
    "#frame['n_evals']\n",
    "results['avg'] = pd.DataFrame(results.groupby(results.index).apply(lambda x: x['cumsum']/ x['denom'].astype(float))).reset_index(drop = True)\n",
    "final_mdevol = results.groupby(['n_evals']).mean()"
   ]
  },
  {
   "cell_type": "code",
   "execution_count": 17,
   "metadata": {},
   "outputs": [],
   "source": [
    "import pandas as pd\n",
    "import glob\n",
    "\n",
    "path = r'./' # use your path\n",
    "all_files = glob.glob(path + \"../hill_climber/*.csv\")\n",
    "\n",
    "li = []\n",
    "\n",
    "for filename in all_files:\n",
    "    df = pd.read_csv(filename, index_col=None, header=0)\n",
    "    li.append(df)\n",
    "    \n",
    "n_trials = len(li)\n"
   ]
  },
  {
   "cell_type": "code",
   "execution_count": 19,
   "metadata": {},
   "outputs": [],
   "source": [
    "#GA avg max and for devol results on mnist\n",
    "\n",
    "\n",
    "frame = pd.concat(li, axis=0, ignore_index=True)\n",
    "frame['groups'] = pd.cut(frame.index,10)\n",
    "\n",
    "frame['cmax'] = frame.groupby(frame['groups'])['Val Accuracy'].cummax()    \n",
    "results = pd.DataFrame(frame['cmax'])\n",
    "cmax = results.reset_index(drop = True)\n",
    "#avg avg \n",
    "results['cumsum'] = frame.groupby(frame['groups'])['Val Accuracy'].cumsum()\n",
    "frame['n_evals'] = frame.groupby(frame['groups'])['Val Accuracy'].count()\n",
    "frame['n_evals'] = 1\n",
    "results['n_evals'] = frame['n_evals'].groupby(frame['groups']).cumsum()\n",
    "\n",
    "#foo = frame.groupby(frame['groups']).apply(lambda x: x['cumsum']/ x['n_evals'].astype(float))\n",
    "\n",
    "\n",
    "results['denom'] = results['n_evals']\n",
    "results = results.set_index(['n_evals']).reset_index()\n",
    "#frame['cavg'] = frame['n_evals'].groupby(frame['groups']).cumsum()\n",
    "#frame['n_evals']\n",
    "results['avg'] = pd.DataFrame(results.groupby(results.index).apply(lambda x: x['cumsum']/ x['denom'].astype(float))).reset_index(drop = True)\n",
    "final_hc = results.groupby(['n_evals']).mean()\n"
   ]
  },
  {
   "cell_type": "code",
   "execution_count": 52,
   "metadata": {},
   "outputs": [
    {
     "data": {
      "text/plain": [
       "Text(0.5, 1.0, 'Hill Climber vs DEvol vs Modified DEvol')"
      ]
     },
     "execution_count": 52,
     "metadata": {},
     "output_type": "execute_result"
    },
    {
     "data": {
      "image/png": "[encoded data removed]",
      "text/plain": [
       "<Figure size 432x288 with 1 Axes>"
      ]
     },
     "metadata": {
      "needs_background": "light"
     },
     "output_type": "display_data"
    }
   ],
   "source": [
    "import matplotlib.pyplot as plt\n",
    "fig = plt.figure() \n",
    "ax = fig.add_subplot(1, 1, 1) \n",
    "ax.plot(final_hc.index, final_hc.cmax, color ='r',linestyle = '-') \n",
    "ax.plot(final_hc.index, final_hc.avg, color ='r',linestyle = ':') \n",
    "\n",
    "ax.plot(final_devol.index, final_devol.cmax, color ='b',linestyle = '-') \n",
    "ax.plot(final_devol.index, final_devol.avg, color ='b',linestyle = ':') \n",
    "\n",
    "ax.plot(final_mdevol.index, final_mdevol.cmax, color ='g',linestyle = '-') \n",
    "ax.plot(final_mdevol.index, final_mdevol.avg, color ='g',linestyle = ':') \n",
    "ax.legend(['Hill Climber avg max','Hill Climber avg avg','DEvol avg max','DEvol avg avg',\\\n",
    "           'mDEvol avg max','mDevol avg avg'],bbox_to_anchor=(1.5, 1), loc='upper right', ncol=1)\n",
    "ax.set_ylim(0.93,1)\n",
    "ax.set_yticks(list(np.arange(0.93,1,0.01)))\n",
    "ax.set_ylabel('Average Fitness')\n",
    "\n",
    "ax.set_xticks(list(np.arange(0,301,20)))\n",
    "ax.set_xlabel('Number of Evaluations')\n",
    "\n",
    "ax.grid(color='k', linestyle='-.', linewidth=0.5)\n",
    "ax.set_title('Hill Climber vs DEvol vs Modified DEvol')"
   ]
  },
  {
   "cell_type": "code",
   "execution_count": 64,
   "metadata": {},
   "outputs": [
    {
     "data": {
      "text/plain": [
       "0.08099853992461492"
      ]
     },
     "execution_count": 64,
     "metadata": {},
     "output_type": "execute_result"
    }
   ],
   "source": [
    "#avg % diff mdevol devol \n",
    "(final_devol.cmax.iloc[299] -final_mdevol.cmax.iloc[299])*100\n"
   ]
  },
  {
   "cell_type": "code",
   "execution_count": 67,
   "metadata": {},
   "outputs": [
    {
     "data": {
      "text/html": [
       "<div>\n",
       "<style scoped>\n",
       "    .dataframe tbody tr th:only-of-type {\n",
       "        vertical-align: middle;\n",
       "    }\n",
       "\n",
       "    .dataframe tbody tr th {\n",
       "        vertical-align: top;\n",
       "    }\n",
       "\n",
       "    .dataframe thead th {\n",
       "        text-align: right;\n",
       "    }\n",
       "</style>\n",
       "<table border=\"1\" class=\"dataframe\">\n",
       "  <thead>\n",
       "    <tr style=\"text-align: right;\">\n",
       "      <th></th>\n",
       "      <th>cmax</th>\n",
       "      <th>cumsum</th>\n",
       "      <th>std</th>\n",
       "      <th>denom</th>\n",
       "      <th>avg</th>\n",
       "    </tr>\n",
       "    <tr>\n",
       "      <th>n_evals</th>\n",
       "      <th></th>\n",
       "      <th></th>\n",
       "      <th></th>\n",
       "      <th></th>\n",
       "      <th></th>\n",
       "    </tr>\n",
       "  </thead>\n",
       "  <tbody>\n",
       "    <tr>\n",
       "      <th>1</th>\n",
       "      <td>0.95615</td>\n",
       "      <td>0.95615</td>\n",
       "      <td>0.057862</td>\n",
       "      <td>1</td>\n",
       "      <td>0.956150</td>\n",
       "    </tr>\n",
       "    <tr>\n",
       "      <th>2</th>\n",
       "      <td>0.97373</td>\n",
       "      <td>1.91861</td>\n",
       "      <td>0.057862</td>\n",
       "      <td>2</td>\n",
       "      <td>0.959305</td>\n",
       "    </tr>\n",
       "    <tr>\n",
       "      <th>3</th>\n",
       "      <td>0.97656</td>\n",
       "      <td>2.88180</td>\n",
       "      <td>0.057862</td>\n",
       "      <td>3</td>\n",
       "      <td>0.960600</td>\n",
       "    </tr>\n",
       "    <tr>\n",
       "      <th>4</th>\n",
       "      <td>0.97994</td>\n",
       "      <td>3.84450</td>\n",
       "      <td>0.057862</td>\n",
       "      <td>4</td>\n",
       "      <td>0.961125</td>\n",
       "    </tr>\n",
       "    <tr>\n",
       "      <th>5</th>\n",
       "      <td>0.98079</td>\n",
       "      <td>4.81025</td>\n",
       "      <td>0.057862</td>\n",
       "      <td>5</td>\n",
       "      <td>0.962050</td>\n",
       "    </tr>\n",
       "    <tr>\n",
       "      <th>...</th>\n",
       "      <td>...</td>\n",
       "      <td>...</td>\n",
       "      <td>...</td>\n",
       "      <td>...</td>\n",
       "      <td>...</td>\n",
       "    </tr>\n",
       "    <tr>\n",
       "      <th>296</th>\n",
       "      <td>0.98801</td>\n",
       "      <td>279.71164</td>\n",
       "      <td>0.057862</td>\n",
       "      <td>296</td>\n",
       "      <td>0.944972</td>\n",
       "    </tr>\n",
       "    <tr>\n",
       "      <th>297</th>\n",
       "      <td>0.98801</td>\n",
       "      <td>280.67472</td>\n",
       "      <td>0.057862</td>\n",
       "      <td>297</td>\n",
       "      <td>0.945033</td>\n",
       "    </tr>\n",
       "    <tr>\n",
       "      <th>298</th>\n",
       "      <td>0.98801</td>\n",
       "      <td>281.62859</td>\n",
       "      <td>0.057862</td>\n",
       "      <td>298</td>\n",
       "      <td>0.945062</td>\n",
       "    </tr>\n",
       "    <tr>\n",
       "      <th>299</th>\n",
       "      <td>0.98801</td>\n",
       "      <td>282.59403</td>\n",
       "      <td>0.057862</td>\n",
       "      <td>299</td>\n",
       "      <td>0.945131</td>\n",
       "    </tr>\n",
       "    <tr>\n",
       "      <th>300</th>\n",
       "      <td>0.98801</td>\n",
       "      <td>283.55622</td>\n",
       "      <td>0.057862</td>\n",
       "      <td>300</td>\n",
       "      <td>0.945187</td>\n",
       "    </tr>\n",
       "  </tbody>\n",
       "</table>\n",
       "<p>300 rows × 5 columns</p>\n",
       "</div>"
      ],
      "text/plain": [
       "            cmax     cumsum       std  denom       avg\n",
       "n_evals                                               \n",
       "1        0.95615    0.95615  0.057862      1  0.956150\n",
       "2        0.97373    1.91861  0.057862      2  0.959305\n",
       "3        0.97656    2.88180  0.057862      3  0.960600\n",
       "4        0.97994    3.84450  0.057862      4  0.961125\n",
       "5        0.98079    4.81025  0.057862      5  0.962050\n",
       "...          ...        ...       ...    ...       ...\n",
       "296      0.98801  279.71164  0.057862    296  0.944972\n",
       "297      0.98801  280.67472  0.057862    297  0.945033\n",
       "298      0.98801  281.62859  0.057862    298  0.945062\n",
       "299      0.98801  282.59403  0.057862    299  0.945131\n",
       "300      0.98801  283.55622  0.057862    300  0.945187\n",
       "\n",
       "[300 rows x 5 columns]"
      ]
     },
     "execution_count": 67,
     "metadata": {},
     "output_type": "execute_result"
    }
   ],
   "source": [
    "final_devol"
   ]
  },
  {
   "cell_type": "code",
   "execution_count": null,
   "metadata": {},
   "outputs": [],
   "source": [
    "import matplotlib.pyplot as plt\n",
    "fig = plt.figure() \n",
    "ax = fig.add_subplot(1, 1, 1) \n",
    "ax.plot(final.index, final.cmax, color ='k',linestyle = '--') \n",
    "\n",
    "ax.plot(final.index, final.avg, color ='k',linestyle = ':') \n",
    "#fig, ax = plt.plot(df['cummax'])\n",
    "ax.set_ylim(0.9,1)\n",
    "ax.set_yticks(list(np.arange(0.9,1,0.01)))\n",
    "ax.set_ylabel('Average Fitness')\n",
    "\n",
    "ax.set_xticks(list(np.arange(0,301,20)))\n",
    "ax.set_xlabel('Number of Evaluations')\n",
    "\n",
    "ax.grid(color='k', linestyle='-.', linewidth=0.5)\n",
    "#ax.set_title('DEvol. Population size: 20 max_fit = 0.9907')\n"
   ]
  },
  {
   "cell_type": "code",
   "execution_count": null,
   "metadata": {},
   "outputs": [],
   "source": [
    "list(np.arange(0.95,1,0.005))"
   ]
  },
  {
   "cell_type": "code",
   "execution_count": null,
   "metadata": {},
   "outputs": [],
   "source": [
    "import matplotlib.pyplot as plt\n",
    "fig = plt.figure() \n",
    "ax = fig.add_subplot(1, 1, 1) \n",
    "ax.plot(final.index, final.cmax, color ='k',linestyle = '--') \n",
    "\n",
    "ax.plot(final.index, final.avg, color ='k',linestyle = ':') \n",
    "#fig, ax = plt.plot(df['cummax'])\n",
    "ax.set_ylim(0.9,1)\n",
    "ax.set_yticks(list(np.arange(0.9,1,0.01)))\n",
    "ax.set_ylabel('Average Fitness')\n",
    "\n",
    "ax.set_xticks(list(np.arange(0,301,20)))\n",
    "ax.set_xlabel('Number of Evaluations')\n",
    "\n",
    "ax.grid(color='k', linestyle='-.', linewidth=0.5)\n",
    "#ax.set_title('DEvol. Population size: 20 max_fit = 0.9907')\n"
   ]
  }
 ],
 "metadata": {
  "application/vnd.databricks.v1+notebook": {
   "dashboards": [],
   "language": "python",
   "notebookName": "analyze_results",
   "notebookOrigID": 3799895826334047,
   "widgets": {}
  },
  "kernelspec": {
   "display_name": "Python 3",
   "language": "python",
   "name": "python3"
  },
  "language_info": {
   "codemirror_mode": {
    "name": "ipython",
    "version": 3
   },
   "file_extension": ".py",
   "mimetype": "text/x-python",
   "name": "python",
   "nbconvert_exporter": "python",
   "pygments_lexer": "ipython3",
   "version": "3.7.3"
  }
 },
 "nbformat": 4,
 "nbformat_minor": 1
}

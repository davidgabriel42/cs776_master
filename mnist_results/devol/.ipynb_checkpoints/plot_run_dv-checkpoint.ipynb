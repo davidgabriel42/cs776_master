{
 "cells": [
  {
   "cell_type": "code",
   "execution_count": 6,
   "metadata": {
    "application/vnd.databricks.v1+cell": {
     "inputWidgets": {},
     "nuid": "bc46fb1f-06a7-4639-b0fd-3c735d5232b6",
     "showTitle": false,
     "title": ""
    }
   },
   "outputs": [],
   "source": [
    "from __future__ import print_function\n",
    "import random as rand\n",
    "import csv\n",
    "import operator\n",
    "import gc\n",
    "import os\n",
    "from datetime import datetime\n",
    "from keras.callbacks import EarlyStopping\n",
    "from keras.models import load_model\n",
    "import keras.backend as K\n",
    "from sklearn.metrics import log_loss\n",
    "import numpy as np\n",
    "\n",
    "if K.backend() == 'tensorflow':\n",
    "    import tensorflow as tf\n",
    "from setuptools import setup, find_packages\n",
    "\n",
    "from keras.datasets import mnist\n",
    "from keras.utils.np_utils import to_categorical\n",
    "from keras import backend as K\n",
    "#from devol import DEvol, GenomeHandler\n",
    "import pandas as pd\n",
    "from pyspark.sql.types import *\n",
    "import inspect\n",
    "from typing import Callable, List\n",
    "import pandas as pd\n",
    "from pyspark.sql import DataFrame, Row, column\n",
    "from pyspark.sql.functions import lit, pandas_udf, PandasUDFType, array\n",
    "from pyspark.sql.types import FloatType"
   ]
  },
  {
   "cell_type": "code",
   "execution_count": 7,
   "metadata": {
    "application/vnd.databricks.v1+cell": {
     "inputWidgets": {},
     "nuid": "007d599e-eb30-4ffc-bebd-9cf2881ecc2b",
     "showTitle": false,
     "title": ""
    }
   },
   "outputs": [
    {
     "name": "stdout",
     "output_type": "stream",
     "text": [
      "Num GPUs Available:  0\n"
     ]
    }
   ],
   "source": [
    "print(\"Num GPUs Available: \", len(tf.config.experimental.list_physical_devices('GPU')))\n"
   ]
  },
  {
   "cell_type": "code",
   "execution_count": 8,
   "metadata": {},
   "outputs": [],
   "source": [
    "import pandas as pd\n",
    "import glob\n",
    "\n",
    "path = r'./' # use your path\n",
    "all_files = glob.glob(path + \"/*.csv\")\n",
    "\n",
    "li = []\n",
    "\n",
    "for filename in all_files:\n",
    "    df = pd.read_csv(filename, index_col=None, header=0)\n",
    "    li.append(df)"
   ]
  },
  {
   "cell_type": "code",
   "execution_count": 11,
   "metadata": {},
   "outputs": [
    {
     "name": "stdout",
     "output_type": "stream",
     "text": [
      "0      0.985300\n",
      "1      0.982400\n",
      "2      0.966467\n",
      "3      0.960300\n",
      "4      0.959720\n",
      "         ...   \n",
      "295    0.970586\n",
      "296    0.970625\n",
      "297    0.970681\n",
      "298    0.970709\n",
      "299    0.970742\n",
      "Name: cmean, Length: 300, dtype: float64\n",
      "300    0.235200\n",
      "301    0.440250\n",
      "302    0.592933\n",
      "303    0.689100\n",
      "304    0.739680\n",
      "         ...   \n",
      "595    0.962004\n",
      "596    0.962045\n",
      "597    0.962120\n",
      "598    0.962191\n",
      "599    0.962256\n",
      "Name: cmean, Length: 300, dtype: float64\n",
      "600    0.983400\n",
      "601    0.982050\n",
      "602    0.974567\n",
      "603    0.973775\n",
      "604    0.972440\n",
      "         ...   \n",
      "895    0.979306\n",
      "896    0.979336\n",
      "897    0.979362\n",
      "898    0.979340\n",
      "899    0.979373\n",
      "Name: cmean, Length: 300, dtype: float64\n",
      "900     0.944400\n",
      "901     0.961850\n",
      "902     0.855400\n",
      "903     0.864950\n",
      "904     0.888300\n",
      "          ...   \n",
      "1195    0.956572\n",
      "1196    0.956660\n",
      "1197    0.956745\n",
      "1198    0.956771\n",
      "1199    0.956860\n",
      "Name: cmean, Length: 300, dtype: float64\n",
      "1200    0.946500\n",
      "1201    0.956750\n",
      "1202    0.961667\n",
      "1203    0.967675\n",
      "1204    0.970180\n",
      "          ...   \n",
      "1495    0.960977\n",
      "1496    0.961061\n",
      "1497    0.961148\n",
      "1498    0.961224\n",
      "1499    0.961307\n",
      "Name: cmean, Length: 300, dtype: float64\n",
      "1500    0.970600\n",
      "1501    0.971450\n",
      "1502    0.976167\n",
      "1503    0.978650\n",
      "1504    0.979260\n",
      "          ...   \n",
      "1795    0.972944\n",
      "1796    0.972976\n",
      "1797    0.973014\n",
      "1798    0.973023\n",
      "1799    0.973059\n",
      "Name: cmean, Length: 300, dtype: float64\n",
      "1800    0.971700\n",
      "1801    0.978750\n",
      "1802    0.971567\n",
      "1803    0.969150\n",
      "1804    0.971080\n",
      "          ...   \n",
      "2095    0.975987\n",
      "2096    0.976033\n",
      "2097    0.976052\n",
      "2098    0.976075\n",
      "2099    0.976127\n",
      "Name: cmean, Length: 300, dtype: float64\n",
      "2100    0.926300\n",
      "2101    0.955000\n",
      "2102    0.938100\n",
      "2103    0.945675\n",
      "2104    0.950880\n",
      "          ...   \n",
      "2395    0.964303\n",
      "2396    0.964365\n",
      "2397    0.964408\n",
      "2398    0.964398\n",
      "2399    0.964443\n",
      "Name: cmean, Length: 300, dtype: float64\n",
      "2400    0.948000\n",
      "2401    0.920450\n",
      "2402    0.936467\n",
      "2403    0.947150\n",
      "2404    0.935260\n",
      "          ...   \n",
      "2695    0.975774\n",
      "2696    0.975814\n",
      "2697    0.975855\n",
      "2698    0.975869\n",
      "2699    0.975839\n",
      "Name: cmean, Length: 300, dtype: float64\n",
      "2700    0.977400\n",
      "2701    0.976600\n",
      "2702    0.840700\n",
      "2703    0.855500\n",
      "2704    0.879820\n",
      "          ...   \n",
      "2995    0.971839\n",
      "2996    0.971878\n",
      "2997    0.971932\n",
      "2998    0.971971\n",
      "2999    0.972020\n",
      "Name: cmean, Length: 300, dtype: float64\n"
     ]
    }
   ],
   "source": [
    "#GA avg max and avg avg for devol results on mnist\n",
    "\n",
    "\n",
    "frame = pd.concat(li, axis=0, ignore_index=True)\n",
    "frame['groups'] = pd.cut(frame.index,10)\n",
    "for group in frame.groupby(frame['groups']):\n",
    "    group[1]['cmax'] = group[1]['Val Accuracy'].cummax()\n",
    "    group[1]['cmean'] = group[1]['Val Accuracy'].expanding().mean()\n",
    "    print(group[1]['cmean'])\n",
    "    \n",
    "\n",
    "    \n"
   ]
  },
  {
   "cell_type": "markdown",
   "metadata": {
    "application/vnd.databricks.v1+cell": {
     "inputWidgets": {},
     "nuid": "984577c5-32d9-4b8f-b144-cfd5dfc1c80e",
     "showTitle": false,
     "title": ""
    }
   },
   "source": [
    "# DEvol On MNIST Results\n",
    "### Genome Record"
   ]
  },
  {
   "cell_type": "code",
   "execution_count": null,
   "metadata": {
    "application/vnd.databricks.v1+cell": {
     "inputWidgets": {},
     "nuid": "64a83c75-9f34-437e-bf24-6c2b618f5a36",
     "showTitle": false,
     "title": ""
    },
    "scrolled": false
   },
   "outputs": [],
   "source": [
    "# File location and type\n",
    "file_location = \"./Fri Dec  4 13:21:51 2020.csv\"\n",
    "file_type = \"parquet\"\n",
    "\n",
    "# CSV options\n",
    "infer_schema = \"false\"\n",
    "first_row_is_header = \"false\"\n",
    "delimiter = \",\"\n",
    "\n",
    "# The applied options are for CSV files. For other file types, these will be ignored.\n",
    "df = pd.read_csv(file_location, sep = delimiter).head(n=300)\n",
    "\n",
    "display(df)\n"
   ]
  },
  {
   "cell_type": "code",
   "execution_count": null,
   "metadata": {
    "application/vnd.databricks.v1+cell": {
     "inputWidgets": {},
     "nuid": "d80da43d-6ea3-4447-9c55-51959e18123a",
     "showTitle": false,
     "title": ""
    }
   },
   "outputs": [],
   "source": [
    "df['cummax'] = df['Val Accuracy'].cummax()\n",
    "df['cummin'] = df['Val Loss'].cummin()\n",
    "df"
   ]
  },
  {
   "cell_type": "code",
   "execution_count": null,
   "metadata": {},
   "outputs": [],
   "source": [
    "import matplotlib.pyplot as plt\n",
    "fig = plt.figure() \n",
    "ax = fig.add_subplot(1, 1, 1) \n",
    "ax.plot(df.index, df['cummax'],df.index, df['cummin'], color ='k',) \n",
    "\n",
    "#fig, ax = plt.plot(df['cummax'])\n",
    "ax.set_ylim(0.95,1)\n",
    "ax.set_yticks(list(np.arange(0.95,1,0.005)))\n",
    "ax.set_ylabel('Accuracy')\n",
    "\n",
    "ax.set_xticks(list(np.arange(0,301,20)))\n",
    "ax.set_xlabel('Fitness Evaluations')\n",
    "\n",
    "ax.grid(color='k', linestyle='-.', linewidth=0.5)\n",
    "ax.set_title('DEvol. Population size: 20 max_fit = 0.9907')\n"
   ]
  },
  {
   "cell_type": "code",
   "execution_count": null,
   "metadata": {},
   "outputs": [],
   "source": [
    "list(np.arange(0.95,1,0.005))"
   ]
  },
  {
   "cell_type": "code",
   "execution_count": null,
   "metadata": {},
   "outputs": [],
   "source": []
  },
  {
   "cell_type": "code",
   "execution_count": null,
   "metadata": {},
   "outputs": [],
   "source": []
  },
  {
   "cell_type": "code",
   "execution_count": null,
   "metadata": {},
   "outputs": [],
   "source": []
  },
  {
   "cell_type": "code",
   "execution_count": null,
   "metadata": {},
   "outputs": [],
   "source": []
  },
  {
   "cell_type": "code",
   "execution_count": null,
   "metadata": {},
   "outputs": [],
   "source": []
  }
 ],
 "metadata": {
  "application/vnd.databricks.v1+notebook": {
   "dashboards": [],
   "language": "python",
   "notebookName": "analyze_results",
   "notebookOrigID": 3799895826334047,
   "widgets": {}
  },
  "kernelspec": {
   "display_name": "Python 3",
   "language": "python",
   "name": "python3"
  }
 },
 "nbformat": 4,
 "nbformat_minor": 1
}
